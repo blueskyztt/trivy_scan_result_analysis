{
 "cells": [
  {
   "cell_type": "code",
   "execution_count": 51,
   "id": "1ff866a5",
   "metadata": {},
   "outputs": [],
   "source": [
    "import matplotlib.pyplot as plt\n",
    "import pandas as pd\n",
    "import numpy as np"
   ]
  },
  {
   "cell_type": "code",
   "execution_count": 52,
   "id": "fa9c6553",
   "metadata": {},
   "outputs": [],
   "source": [
    "df = pd.read_csv(\"./kicbase.json_df.csv\")\n",
    "df['amount'] = [1 for x in range(len(df))]\n"
   ]
  },
  {
   "cell_type": "code",
   "execution_count": 53,
   "id": "316cbfb7",
   "metadata": {},
   "outputs": [],
   "source": [
    "df.head(5)"
   ]
  },
  {
   "cell_type": "code",
   "execution_count": 54,
   "id": "8009a752",
   "metadata": {},
   "outputs": [],
   "source": [
    "def percentage_growth(l):\n",
    "    # output:percentage of each group.\n",
    "    s = 0\n",
    "    res = [0]\n",
    "    for i in range(len(l)-1):\n",
    "        s += l[i]\n",
    "        res.append(s / sum(l))\n",
    "    return res"
   ]
  },
  {
   "cell_type": "code",
   "execution_count": 55,
   "id": "49585d8c",
   "metadata": {},
   "outputs": [],
   "source": [
    "def func(pct, allvals):\n",
    "    absolute = int(np.round(pct/100.*np.sum(allvals)))\n",
    "    return f\"{pct:.1f}% ({absolute:d})\""
   ]
  },
  {
   "cell_type": "code",
   "execution_count": 56,
   "id": "e617138d",
   "metadata": {},
   "outputs": [],
   "source": [
    "dict_colors = {\n",
    "    'LOW': '#5fbb3160',\n",
    "    'MEDIUM': '#e9c60060',\n",
    "    'HIGH': '#ff880060',\n",
    "    'CRITICAL': '#e4000060',\n",
    "    'UNKNOWN': '#74747460'\n",
    "}\n",
    " "
   ]
  },
  {
   "cell_type": "code",
   "execution_count": 57,
   "id": "9aa10aa1",
   "metadata": {},
   "outputs": [],
   "source": [
    "plt.axis(\"equal\")\n",
    "cmap = plt.get_cmap(\"rainbow\")\n",
    "\n",
    "# ------------draw inner circle：\n",
    "radius = 1 \n",
    "width = 1\n",
    "frame = df.groupby('Target')['amount'].sum()\n",
    "colors = cmap(percentage_growth(frame))\n",
    "labels = [x[-1] if isinstance(x, tuple) else x for x in frame.index.to_numpy()]\n",
    "plt.pie(frame, \n",
    "        labels=labels, \n",
    "        colors=colors,\n",
    "        radius=radius, \n",
    "        wedgeprops=dict(width=width, edgecolor='w'), \n",
    "        labeldistance=0.8,\n",
    "        autopct=lambda pct: func(pct, frame))\n",
    "\n",
    "# --------------draw outer circle：\n",
    "radius = 2 \n",
    "width = 1\n",
    "frame = df.groupby(['Target', 'Severity'])['amount'].sum()     \n",
    "# colors = cmap(percentage_growth(frame))\n",
    "labels = [x[-1] if isinstance(x, tuple) else x for x in frame.index.to_numpy()]\n",
    "colors = [dict_colors[label] for label in labels]\n",
    "\n",
    "plt.pie(frame, \n",
    "        labels=labels, \n",
    "        colors=colors,\n",
    "        radius=radius, \n",
    "        wedgeprops=dict(width=width, edgecolor='w'), \n",
    "        labeldistance=0.8,\n",
    "        autopct=lambda pct: func(pct, frame))\n",
    "\n",
    "plt.show()"
   ]
  },
  {
   "cell_type": "code",
   "execution_count": null,
   "id": "b9df78b6",
   "metadata": {},
   "outputs": [],
   "source": []
  }
 ],
 "metadata": {
  "kernelspec": {
   "display_name": "Python 3 (ipykernel)",
   "language": "python",
   "name": "python3"
  },
  "language_info": {
   "codemirror_mode": {
    "name": "ipython",
    "version": 3
   },
   "file_extension": ".py",
   "mimetype": "text/x-python",
   "name": "python",
   "nbconvert_exporter": "python",
   "pygments_lexer": "ipython3",
   "version": "3.8.15"
  }
 },
 "nbformat": 4,
 "nbformat_minor": 5
}
